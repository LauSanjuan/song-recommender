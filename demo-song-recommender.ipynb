{
 "cells": [
  {
   "cell_type": "code",
   "execution_count": 1,
   "id": "8d17a724",
   "metadata": {},
   "outputs": [],
   "source": [
    "import functions"
   ]
  },
  {
   "cell_type": "code",
   "execution_count": 2,
   "id": "11189ca7",
   "metadata": {
    "scrolled": true
   },
   "outputs": [
    {
     "name": "stdout",
     "output_type": "stream",
     "text": [
      "Enter the song: wonderwall\n",
      "Enter the artist: oasis\n",
      "\n",
      "                                             Title           Artist  \\\n",
      "0                          Wonderwall - Remastered            Oasis   \n",
      "1                                       Wonderwall            Oasis   \n",
      "2  Wonderwall - Live at Wembley Stadium, July 2000            Oasis   \n",
      "3    Wonderwall (Live at Knebworth, 10 August '96)            Oasis   \n",
      "4                                       Wonderwall            Oasis   \n",
      "5                                       Wonderwall            Oasis   \n",
      "6    Wonderwall (Live at Knebworth, 10 August '96)            Oasis   \n",
      "7                                       Wonderwall  Oasis For Piano   \n",
      "8                                       Wonderwall  Oasis For Piano   \n",
      "9                             Wonderwall - Karaoke  Karaoke - Oasis   \n",
      "\n",
      "                                               Album  \n",
      "0  (What's The Story) Morning Glory? (Deluxe Rema...  \n",
      "1                  (What's The Story) Morning Glory?  \n",
      "2                        Familiar To Millions (Live)  \n",
      "3                              Knebworth 1996 (Live)  \n",
      "4                                         Wonderwall  \n",
      "5                                    Stop The Clocks  \n",
      "6      Wonderwall (Live at Knebworth, 10 August '96)  \n",
      "7                   Melancholy Rock N Roll: Volume 2  \n",
      "8                                  What's the Story?  \n",
      "9                    Modern Rock - Vol. 31 - Karaoke  \n",
      "\n",
      "Choose the song number: 1\n"
     ]
    },
    {
     "data": {
      "text/html": [
       "<style type=\"text/css\">\n",
       "</style>\n",
       "<table id=\"T_a644b\">\n",
       "  <thead>\n",
       "    <tr>\n",
       "      <th id=\"T_a644b_level0_col0\" class=\"col_heading level0 col0\" >Song</th>\n",
       "      <th id=\"T_a644b_level0_col1\" class=\"col_heading level0 col1\" >Artist</th>\n",
       "      <th id=\"T_a644b_level0_col2\" class=\"col_heading level0 col2\" >Spotify Link</th>\n",
       "    </tr>\n",
       "  </thead>\n",
       "  <tbody>\n",
       "    <tr>\n",
       "      <td id=\"T_a644b_row0_col0\" class=\"data row0 col0\" >die first</td>\n",
       "      <td id=\"T_a644b_row0_col1\" class=\"data row0 col1\" >Nessa Barrett</td>\n",
       "      <td id=\"T_a644b_row0_col2\" class=\"data row0 col2\" >https://open.spotify.com/track/7BSgfWzZRs77HwtBxl2KH8</td>\n",
       "    </tr>\n",
       "    <tr>\n",
       "      <td id=\"T_a644b_row1_col0\" class=\"data row1 col0\" >Palavras</td>\n",
       "      <td id=\"T_a644b_row1_col1\" class=\"data row1 col1\" >Lauriete</td>\n",
       "      <td id=\"T_a644b_row1_col2\" class=\"data row1 col2\" >https://open.spotify.com/track/4R0KtYtVHNdqS91IyfUGW3</td>\n",
       "    </tr>\n",
       "    <tr>\n",
       "      <td id=\"T_a644b_row2_col0\" class=\"data row2 col0\" >Kagerou</td>\n",
       "      <td id=\"T_a644b_row2_col1\" class=\"data row2 col1\" >BABYMETAL</td>\n",
       "      <td id=\"T_a644b_row2_col2\" class=\"data row2 col2\" >https://open.spotify.com/track/4kNujQGCx2ytNLfYIEIcYP</td>\n",
       "    </tr>\n",
       "    <tr>\n",
       "      <td id=\"T_a644b_row3_col0\" class=\"data row3 col0\" >Catalonia</td>\n",
       "      <td id=\"T_a644b_row3_col1\" class=\"data row3 col1\" >Vance Joy</td>\n",
       "      <td id=\"T_a644b_row3_col2\" class=\"data row3 col2\" >https://open.spotify.com/track/2Z7jgbfY2gggLzTiwzGVUy</td>\n",
       "    </tr>\n",
       "    <tr>\n",
       "      <td id=\"T_a644b_row4_col0\" class=\"data row4 col0\" >Forever Young - Paul Says MERRY XMESS Bootleg</td>\n",
       "      <td id=\"T_a644b_row4_col1\" class=\"data row4 col1\" >Paul Elstak</td>\n",
       "      <td id=\"T_a644b_row4_col2\" class=\"data row4 col2\" >https://open.spotify.com/track/5dCXXvJg4sJBPErwZiWhCW</td>\n",
       "    </tr>\n",
       "  </tbody>\n",
       "</table>\n"
      ],
      "text/plain": [
       "<pandas.io.formats.style.Styler at 0x21d23fc7dc0>"
      ]
     },
     "metadata": {},
     "output_type": "display_data"
    },
    {
     "name": "stdout",
     "output_type": "stream",
     "text": [
      "\n",
      "Do you want another recommendation? (yes/no):\n",
      "no\n",
      "\n"
     ]
    }
   ],
   "source": [
    "functions.song_recommender()"
   ]
  }
 ],
 "metadata": {
  "kernelspec": {
   "display_name": "Python 3 (ipykernel)",
   "language": "python",
   "name": "python3"
  },
  "language_info": {
   "codemirror_mode": {
    "name": "ipython",
    "version": 3
   },
   "file_extension": ".py",
   "mimetype": "text/x-python",
   "name": "python",
   "nbconvert_exporter": "python",
   "pygments_lexer": "ipython3",
   "version": "3.8.16"
  }
 },
 "nbformat": 4,
 "nbformat_minor": 5
}
