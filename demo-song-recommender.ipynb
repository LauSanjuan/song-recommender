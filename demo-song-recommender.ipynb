{
 "cells": [
  {
   "cell_type": "code",
   "execution_count": 1,
   "id": "8d17a724",
   "metadata": {},
   "outputs": [],
   "source": [
    "import functions"
   ]
  },
  {
   "cell_type": "code",
   "execution_count": 2,
   "id": "11189ca7",
   "metadata": {
    "scrolled": true
   },
   "outputs": [
    {
     "name": "stdout",
     "output_type": "stream",
     "text": [
      "Enter the song: spring day\n",
      "Enter the artist: bts\n",
      "\n",
      "                        Title Artist                 Album\n",
      "0                  Spring Day    BTS  You Never Walk Alone\n",
      "1                  Spring Day    BTS                 Proof\n",
      "2  Spring Day - Japanese ver.    BTS         FACE YOURSELF\n",
      "3  Spring Day - Japanese ver.    BTS         BTS, THE BEST\n",
      "4  Spring Day - Japanese ver.    BTS                 血、汗、涙\n",
      "\n",
      "Choose the song number: 0\n"
     ]
    },
    {
     "data": {
      "text/html": [
       "<style type=\"text/css\">\n",
       "</style>\n",
       "<table id=\"T_f4014\">\n",
       "  <thead>\n",
       "    <tr>\n",
       "      <th id=\"T_f4014_level0_col0\" class=\"col_heading level0 col0\" >Song</th>\n",
       "      <th id=\"T_f4014_level0_col1\" class=\"col_heading level0 col1\" >Artist</th>\n",
       "      <th id=\"T_f4014_level0_col2\" class=\"col_heading level0 col2\" >Spotify Link</th>\n",
       "    </tr>\n",
       "  </thead>\n",
       "  <tbody>\n",
       "    <tr>\n",
       "      <td id=\"T_f4014_row0_col0\" class=\"data row0 col0\" >だいて - ラスベガス・ヴァージョン; 2012 Remaster</td>\n",
       "      <td id=\"T_f4014_row0_col1\" class=\"data row0 col1\" >Chisato Moritaka</td>\n",
       "      <td id=\"T_f4014_row0_col2\" class=\"data row0 col2\" >https://open.spotify.com/track/4UB2EL1sNtI4CLfKSCvbwG</td>\n",
       "    </tr>\n",
       "    <tr>\n",
       "      <td id=\"T_f4014_row1_col0\" class=\"data row1 col0\" >牆外</td>\n",
       "      <td id=\"T_f4014_row1_col1\" class=\"data row1 col1\" >Namewee;小花</td>\n",
       "      <td id=\"T_f4014_row1_col2\" class=\"data row1 col2\" >https://open.spotify.com/track/0uwKnegrsnDSCHiEoC57tQ</td>\n",
       "    </tr>\n",
       "    <tr>\n",
       "      <td id=\"T_f4014_row2_col0\" class=\"data row2 col0\" >Pasarela</td>\n",
       "      <td id=\"T_f4014_row2_col1\" class=\"data row2 col1\" >Daddy Yankee</td>\n",
       "      <td id=\"T_f4014_row2_col2\" class=\"data row2 col2\" >https://open.spotify.com/track/3AedlLCGKNhQdhtLzObIbR</td>\n",
       "    </tr>\n",
       "    <tr>\n",
       "      <td id=\"T_f4014_row3_col0\" class=\"data row3 col0\" >Skit</td>\n",
       "      <td id=\"T_f4014_row3_col1\" class=\"data row3 col1\" >Roffe Ruff</td>\n",
       "      <td id=\"T_f4014_row3_col2\" class=\"data row3 col2\" >https://open.spotify.com/track/06PQxdJBWTeHeId32AI9oS</td>\n",
       "    </tr>\n",
       "    <tr>\n",
       "      <td id=\"T_f4014_row4_col0\" class=\"data row4 col0\" >Celebration - Single Version</td>\n",
       "      <td id=\"T_f4014_row4_col1\" class=\"data row4 col1\" >Kool & The Gang</td>\n",
       "      <td id=\"T_f4014_row4_col2\" class=\"data row4 col2\" >https://open.spotify.com/track/22sTK2yvAQOwc5jzDmacHc</td>\n",
       "    </tr>\n",
       "  </tbody>\n",
       "</table>\n"
      ],
      "text/plain": [
       "<pandas.io.formats.style.Styler at 0x285f309dd00>"
      ]
     },
     "metadata": {},
     "output_type": "display_data"
    },
    {
     "name": "stdout",
     "output_type": "stream",
     "text": [
      "\n",
      "Do you want another recommendation? (yes/no):\n",
      "no\n",
      "\n"
     ]
    }
   ],
   "source": [
    "functions.song_recommender()"
   ]
  }
 ],
 "metadata": {
  "kernelspec": {
   "display_name": "Python 3 (ipykernel)",
   "language": "python",
   "name": "python3"
  },
  "language_info": {
   "codemirror_mode": {
    "name": "ipython",
    "version": 3
   },
   "file_extension": ".py",
   "mimetype": "text/x-python",
   "name": "python",
   "nbconvert_exporter": "python",
   "pygments_lexer": "ipython3",
   "version": "3.8.16"
  }
 },
 "nbformat": 4,
 "nbformat_minor": 5
}
